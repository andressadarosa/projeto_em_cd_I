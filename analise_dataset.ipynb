{
 "cells": [
  {
   "cell_type": "code",
   "execution_count": 1,
   "metadata": {},
   "outputs": [],
   "source": [
    "import pandas as pd"
   ]
  },
  {
   "cell_type": "code",
   "execution_count": 2,
   "metadata": {},
   "outputs": [
    {
     "name": "stderr",
     "output_type": "stream",
     "text": [
      "C:\\Users\\MoAn635\\AppData\\Local\\Temp\\ipykernel_2368\\1153590322.py:1: DtypeWarning: Columns (2) have mixed types. Specify dtype option on import or set low_memory=False.\n",
      "  df = pd.read_csv('B2W-Reviews01.csv')\n"
     ]
    }
   ],
   "source": [
    "df = pd.read_csv('B2W-Reviews01.csv')"
   ]
  },
  {
   "cell_type": "code",
   "execution_count": 4,
   "metadata": {},
   "outputs": [
    {
     "name": "stdout",
     "output_type": "stream",
     "text": [
      "<class 'pandas.core.frame.DataFrame'>\n",
      "RangeIndex: 132373 entries, 0 to 132372\n",
      "Data columns (total 14 columns):\n",
      " #   Column                 Non-Null Count   Dtype  \n",
      "---  ------                 --------------   -----  \n",
      " 0   submission_date        132373 non-null  object \n",
      " 1   reviewer_id            132373 non-null  object \n",
      " 2   product_id             132373 non-null  object \n",
      " 3   product_name           132289 non-null  object \n",
      " 4   product_brand          40982 non-null   object \n",
      " 5   site_category_lv1      132367 non-null  object \n",
      " 6   site_category_lv2      128360 non-null  object \n",
      " 7   review_title           132071 non-null  object \n",
      " 8   overall_rating         132373 non-null  int64  \n",
      " 9   recommend_to_a_friend  132355 non-null  object \n",
      " 10  review_text            129098 non-null  object \n",
      " 11  reviewer_birth_year    126389 non-null  float64\n",
      " 12  reviewer_gender        128237 non-null  object \n",
      " 13  reviewer_state         128382 non-null  object \n",
      "dtypes: float64(1), int64(1), object(12)\n",
      "memory usage: 14.1+ MB\n"
     ]
    }
   ],
   "source": [
    "df.info()"
   ]
  },
  {
   "cell_type": "code",
   "execution_count": 6,
   "metadata": {},
   "outputs": [
    {
     "data": {
      "text/html": [
       "<div>\n",
       "<style scoped>\n",
       "    .dataframe tbody tr th:only-of-type {\n",
       "        vertical-align: middle;\n",
       "    }\n",
       "\n",
       "    .dataframe tbody tr th {\n",
       "        vertical-align: top;\n",
       "    }\n",
       "\n",
       "    .dataframe thead th {\n",
       "        text-align: right;\n",
       "    }\n",
       "</style>\n",
       "<table border=\"1\" class=\"dataframe\">\n",
       "  <thead>\n",
       "    <tr style=\"text-align: right;\">\n",
       "      <th></th>\n",
       "      <th>submission_date</th>\n",
       "      <th>reviewer_id</th>\n",
       "      <th>product_id</th>\n",
       "      <th>product_name</th>\n",
       "      <th>product_brand</th>\n",
       "      <th>site_category_lv1</th>\n",
       "      <th>site_category_lv2</th>\n",
       "      <th>review_title</th>\n",
       "      <th>overall_rating</th>\n",
       "      <th>recommend_to_a_friend</th>\n",
       "      <th>review_text</th>\n",
       "      <th>reviewer_birth_year</th>\n",
       "      <th>reviewer_gender</th>\n",
       "      <th>reviewer_state</th>\n",
       "    </tr>\n",
       "  </thead>\n",
       "  <tbody>\n",
       "    <tr>\n",
       "      <th>132368</th>\n",
       "      <td>2018-05-31 23:30:50</td>\n",
       "      <td>15f20e95ff44163f3175aaf67a5ae4a94d5030b409e521...</td>\n",
       "      <td>17962233</td>\n",
       "      <td>Carregador De Pilha Sony + 4 Pilhas Aa 2500mah</td>\n",
       "      <td>NaN</td>\n",
       "      <td>Câmeras e Filmadoras</td>\n",
       "      <td>Acessórios para Câmeras e Filmadoras</td>\n",
       "      <td>Ótimo produto!</td>\n",
       "      <td>5</td>\n",
       "      <td>Yes</td>\n",
       "      <td>Vale muito, estou usando no controle do Xbox e...</td>\n",
       "      <td>1988.0</td>\n",
       "      <td>M</td>\n",
       "      <td>RS</td>\n",
       "    </tr>\n",
       "    <tr>\n",
       "      <th>132369</th>\n",
       "      <td>2018-05-31 23:42:25</td>\n",
       "      <td>def7cf9028b0673ab8bca3b1d06e085461fafb88cd48d9...</td>\n",
       "      <td>132631701</td>\n",
       "      <td>Mop Giratório Fit + Refil Extra - At Home</td>\n",
       "      <td>NaN</td>\n",
       "      <td>Utilidades Domésticas</td>\n",
       "      <td>Material de Limpeza</td>\n",
       "      <td>Sensacional</td>\n",
       "      <td>5</td>\n",
       "      <td>Yes</td>\n",
       "      <td>Prático e barato, super indico o produto para ...</td>\n",
       "      <td>1979.0</td>\n",
       "      <td>F</td>\n",
       "      <td>SP</td>\n",
       "    </tr>\n",
       "    <tr>\n",
       "      <th>132370</th>\n",
       "      <td>2018-05-31 23:44:16</td>\n",
       "      <td>7bcbf542f5d7dd9a9a192a6805adba7a7a4c1ce3bf00df...</td>\n",
       "      <td>16095859</td>\n",
       "      <td>Fita Led 5m Rgb 3528 Siliconada Com 300 Leds C...</td>\n",
       "      <td>NaN</td>\n",
       "      <td>Automotivo</td>\n",
       "      <td>Iluminação</td>\n",
       "      <td>Ótimo produto</td>\n",
       "      <td>4</td>\n",
       "      <td>Yes</td>\n",
       "      <td>Chegou antes do prazo previsto e corresponde a...</td>\n",
       "      <td>1979.0</td>\n",
       "      <td>F</td>\n",
       "      <td>PR</td>\n",
       "    </tr>\n",
       "    <tr>\n",
       "      <th>132371</th>\n",
       "      <td>2018-05-31 23:46:48</td>\n",
       "      <td>e6fb0b19277d01c2a300c7837a105f3c369377e92f9c19...</td>\n",
       "      <td>6774907</td>\n",
       "      <td>Etiquetas Jurídicas Vade Mecum - Marca Fácil</td>\n",
       "      <td>marca facil</td>\n",
       "      <td>Papelaria</td>\n",
       "      <td>Material de Escritório</td>\n",
       "      <td>O produto não é bom.</td>\n",
       "      <td>1</td>\n",
       "      <td>No</td>\n",
       "      <td>Material fraco, poderia ser melhor. Ficou deve...</td>\n",
       "      <td>1991.0</td>\n",
       "      <td>M</td>\n",
       "      <td>RJ</td>\n",
       "    </tr>\n",
       "    <tr>\n",
       "      <th>132372</th>\n",
       "      <td>2018-05-31 23:50:33</td>\n",
       "      <td>ea9467aa73271fb4f68c04f4dd4f4eef304d6ee85441fb...</td>\n",
       "      <td>114081902</td>\n",
       "      <td>Painel de Fotos Bee Colection Rue Bac (74x94x3...</td>\n",
       "      <td>kapos</td>\n",
       "      <td>Decoração</td>\n",
       "      <td>Painel de Fotos</td>\n",
       "      <td>Produto não entregue</td>\n",
       "      <td>1</td>\n",
       "      <td>No</td>\n",
       "      <td>Comprei esse produto, quando chegou estava com...</td>\n",
       "      <td>1982.0</td>\n",
       "      <td>F</td>\n",
       "      <td>ES</td>\n",
       "    </tr>\n",
       "  </tbody>\n",
       "</table>\n",
       "</div>"
      ],
      "text/plain": [
       "            submission_date  \\\n",
       "132368  2018-05-31 23:30:50   \n",
       "132369  2018-05-31 23:42:25   \n",
       "132370  2018-05-31 23:44:16   \n",
       "132371  2018-05-31 23:46:48   \n",
       "132372  2018-05-31 23:50:33   \n",
       "\n",
       "                                              reviewer_id product_id  \\\n",
       "132368  15f20e95ff44163f3175aaf67a5ae4a94d5030b409e521...   17962233   \n",
       "132369  def7cf9028b0673ab8bca3b1d06e085461fafb88cd48d9...  132631701   \n",
       "132370  7bcbf542f5d7dd9a9a192a6805adba7a7a4c1ce3bf00df...   16095859   \n",
       "132371  e6fb0b19277d01c2a300c7837a105f3c369377e92f9c19...    6774907   \n",
       "132372  ea9467aa73271fb4f68c04f4dd4f4eef304d6ee85441fb...  114081902   \n",
       "\n",
       "                                             product_name product_brand  \\\n",
       "132368     Carregador De Pilha Sony + 4 Pilhas Aa 2500mah           NaN   \n",
       "132369          Mop Giratório Fit + Refil Extra - At Home           NaN   \n",
       "132370  Fita Led 5m Rgb 3528 Siliconada Com 300 Leds C...           NaN   \n",
       "132371       Etiquetas Jurídicas Vade Mecum - Marca Fácil   marca facil   \n",
       "132372  Painel de Fotos Bee Colection Rue Bac (74x94x3...         kapos   \n",
       "\n",
       "            site_category_lv1                     site_category_lv2  \\\n",
       "132368   Câmeras e Filmadoras  Acessórios para Câmeras e Filmadoras   \n",
       "132369  Utilidades Domésticas                   Material de Limpeza   \n",
       "132370             Automotivo                            Iluminação   \n",
       "132371              Papelaria                Material de Escritório   \n",
       "132372              Decoração                       Painel de Fotos   \n",
       "\n",
       "                review_title  overall_rating recommend_to_a_friend  \\\n",
       "132368        Ótimo produto!               5                   Yes   \n",
       "132369           Sensacional               5                   Yes   \n",
       "132370         Ótimo produto               4                   Yes   \n",
       "132371  O produto não é bom.               1                    No   \n",
       "132372  Produto não entregue               1                    No   \n",
       "\n",
       "                                              review_text  \\\n",
       "132368  Vale muito, estou usando no controle do Xbox e...   \n",
       "132369  Prático e barato, super indico o produto para ...   \n",
       "132370  Chegou antes do prazo previsto e corresponde a...   \n",
       "132371  Material fraco, poderia ser melhor. Ficou deve...   \n",
       "132372  Comprei esse produto, quando chegou estava com...   \n",
       "\n",
       "        reviewer_birth_year reviewer_gender reviewer_state  \n",
       "132368               1988.0               M             RS  \n",
       "132369               1979.0               F             SP  \n",
       "132370               1979.0               F             PR  \n",
       "132371               1991.0               M             RJ  \n",
       "132372               1982.0               F             ES  "
      ]
     },
     "execution_count": 6,
     "metadata": {},
     "output_type": "execute_result"
    }
   ],
   "source": [
    "df.tail()"
   ]
  },
  {
   "cell_type": "code",
   "execution_count": 7,
   "metadata": {},
   "outputs": [
    {
     "data": {
      "text/plain": [
       "Index(['submission_date', 'reviewer_id', 'product_id', 'product_name',\n",
       "       'product_brand', 'site_category_lv1', 'site_category_lv2',\n",
       "       'review_title', 'overall_rating', 'recommend_to_a_friend',\n",
       "       'review_text', 'reviewer_birth_year', 'reviewer_gender',\n",
       "       'reviewer_state'],\n",
       "      dtype='object')"
      ]
     },
     "execution_count": 7,
     "metadata": {},
     "output_type": "execute_result"
    }
   ],
   "source": [
    "df.columns"
   ]
  }
 ],
 "metadata": {
  "kernelspec": {
   "display_name": "base",
   "language": "python",
   "name": "python3"
  },
  "language_info": {
   "codemirror_mode": {
    "name": "ipython",
    "version": 3
   },
   "file_extension": ".py",
   "mimetype": "text/x-python",
   "name": "python",
   "nbconvert_exporter": "python",
   "pygments_lexer": "ipython3",
   "version": "3.11.5"
  }
 },
 "nbformat": 4,
 "nbformat_minor": 2
}
